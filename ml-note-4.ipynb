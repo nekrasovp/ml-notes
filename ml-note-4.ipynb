{
 "cells": [
  {
   "cell_type": "code",
   "execution_count": 54,
   "metadata": {},
   "outputs": [],
   "source": [
    "import numpy as np\n",
    "import matplotlib.pyplot as plt\n",
    "from matplotlib import patches as patches"
   ]
  },
  {
   "cell_type": "markdown",
   "metadata": {},
   "source": [
    "# Notes on \n",
    "[Р.В. Шамин. Лекция 4. Сети Кохонена в задачах кластеризации экономических данных](http://www.mathnet.ru/php/seminars.phtml?option_lang=rus&presentid=19582)"
   ]
  },
  {
   "cell_type": "markdown",
   "metadata": {},
   "source": [
    "- [x] Сети Кохонена в задачах кластеризации экономических данных\n",
    "- [x] Формулировка задачи\n",
    "- [x] Кластеризация данных  \n",
    "- [x] Сеть Кохонена\n",
    "- [x] Самоорганизующаяся карта Кохонена\n",
    "- [x] Ссылки\n",
    "- [x] Пример"
   ]
  },
  {
   "cell_type": "markdown",
   "metadata": {},
   "source": [
    "## Сети Кохонена в задачах кластеризации экономических данных.\n",
    "Методы анализа на основе сетей Кохонена и самоорганизующихся карт Кохонена.\n",
    "\n",
    "Опустим формальное определение информации, в нашем случае будет достаточно ввести следующие .\n",
    "- неформальная часть информации участвующая в принятии решения.\n",
    "- формальная информация, которую мы будем называть данными."
   ]
  },
  {
   "cell_type": "markdown",
   "metadata": {},
   "source": [
    "## Формулировка задачи\n",
    "Наша цель, сформулировать задачу для работы с формальной части информации.\n",
    "\n",
    "Когда мы говорим о визуализации данных и его эмоциональном влиянии на принятие решений, задача оказываеться не тривиальной из-за многочисленных факторов, в качестве яркого примера можно привести так называемый [Lie Factor](https://www.edwardtufte.com/bboard/q-and-a-fetch-msg?msg_id=00002o) предложенный Эдвардом Таффти.\n",
    "![lie-factor](lie-factor.jpg)\n",
    "\n",
    "Графическое представление информации, не гарантирует, то что информация полностью используеться без добавления эмоционального окраса.\n",
    "\n",
    "Задачей будет являться, представление данных в таком виде, чтобы их можно было использовать для принятия Истиного решения. "
   ]
  },
  {
   "cell_type": "markdown",
   "metadata": {},
   "source": [
    "В задачах мы обычно будем иметь дело с данными в виде следующих таблиц:\n",
    "\n",
    "Предприятие | Характеристика 1 | Характеристика 2 | Характеристика 3\n",
    "--- | --- | --- | ---\n",
    "ID1 | 1050 | 4,5 | Да\n",
    "ID2 | 2344 | 6 | Нет\n",
    "\n",
    "или финансовые данные в виде временных рядов,\n",
    "\n",
    "Asset | 01.01.00 | 02.01.00 | 03.01.00\n",
    "--- | --- | --- | ---\n",
    "AAPL | 1050,5 | 1101,1 | 1245,67\n",
    "SPY | 2344,45 | 2345,17 | 2330,5\n",
    "\n",
    "Нас интересует не формальный метод оптимизации, а действия по приведению данных в \"полезный\" для ЛПР вид.\n",
    "Обычно, методы классической статистики избыточны на подобных данных, но методы машинного обучения дают некоторые полезные инструменты, для более эффективного их применения."
   ]
  },
  {
   "cell_type": "markdown",
   "metadata": {},
   "source": [
    "## Кластеризация данных\n",
    "\n",
    "Нейронная сеть - метод опроксимации любой функции, основным недостатком данного метода в данной задачи, являеться важность большого обучающих примеров.\n",
    "\n",
    "Когда мы говорим о \"закупочной аналитике\" где мы имеем большую выборку, то этот метот действует отлично.\n",
    "\n",
    "В большинстве реальных экономических задачах, у нас обычно нету такой возможности.\n",
    "\n",
    "Допустим матрица существование матрицы $U$ с наобором значений.\n",
    "\n",
    "$d:U \\to \\{ 1,2,...,K \\}^\\mbox{К - количество классов}$\n",
    "\n",
    "Если Размерность $U$ в пределах 20 единиц, обычно можно сделать адекватный вывод и увидеть классы без применения дополнительных методов.\n",
    "\n",
    "Когда мы говорим о больших размерностях, то уместно использовать Сети Кохонена, как метод машинного обучения без учителя."
   ]
  },
  {
   "cell_type": "markdown",
   "metadata": {},
   "source": [
    "## Сеть Кохонена\n",
    "    \n",
    "Определение из Википедии - [Сеть Кохонена](https://ru.wikipedia.org/wiki/%D0%9D%D0%B5%D0%B9%D1%80%D0%BE%D0%BD%D0%BD%D0%B0%D1%8F_%D1%81%D0%B5%D1%82%D1%8C_%D0%9A%D0%BE%D1%85%D0%BE%D0%BD%D0%B5%D0%BD%D0%B0)\n",
    "\n",
    "1. Допустим что $\\underset{(M \\times N)}{U}$\n",
    "2. $W_k, k=1,...,K$\n",
    "3. $W_k \\in \\mathbb{R}^M$\n",
    "5. Если столбец не вырожденный, то есть имеет более 1 значения, Нормируем данные по столбцам $N$\n",
    "6. В цикле\n",
    "    * Берем случайным образом элемент из $U$ который являеться $N$ мерным вектором \n",
    "    * Находим ближайщий из $W_k$ к нашему случайному элементу.\n",
    "7. В итоге веса в нейроне настроятся таким образом что они будут интуитивно подтверждать правильность параметра $K$\n",
    "8. В итоге сравнивая каждый элемент с полученным нейроном, может определить расстояние до него.\n",
    "\n",
    "Важный момент это вычисление количества классов $K$ содержащихся в нашей выборке\n",
    "\n",
    "Иногда количество классов, интуитивно понятно. Но чаще это не так.\n",
    "\n",
    "Применяеться следующий эмпирический прием:\n",
    "1. Пусть $K = 2$, разбиение на классы дает [25, 75]\n",
    "2. Зауская алгоритм ~10 раз и вы видите что результат ~ одинаковый(+/-10%) \n",
    "3. Значит разбиение на 2 класса имеет смысл\n",
    "4. Для $K = 3$, например [7, 23, 70]\n",
    "5. Повторяем 2. - 3.\n",
    "6. Для $K = 4$ , например [0, 7, 23, 70]\n",
    "7. Значит на 4 класса данные не разбиваються. Работа алгоритма приводит к вырождению элементов 4 класса.\n",
    "8. Если в результате кластеризации получаеться класс с одним элементом, то это тоже важный результат для пересмотра формулировки задачи или формирования выборки.\n",
    "\n",
    "**Важный постулат: Все методы машинного обучения в реальных задачах экономики, носят рекомендательный характер**\n"
   ]
  },
  {
   "cell_type": "markdown",
   "metadata": {},
   "source": [
    "## Иерархические структуры "
   ]
  },
  {
   "cell_type": "markdown",
   "metadata": {},
   "source": [
    "Очень часто результат кластеризации дает иерархическую структуру.\n",
    "\n",
    "Сеть кохонена, на выходе дает информацию:\n",
    "- о количестве классов, \n",
    "- для каждого класса какие элементы к нему относятся, \n",
    "- характерное значение каждого класса.\n",
    "\n",
    "Что позволяет в отличие классической нейронной сети со скрытыми слоями, *интуитивно* понять результат работы алгоритма.\n",
    "\n",
    "```text\n",
    "                +---+\n",
    "                |100|\n",
    "     +------------+-------------+\n",
    "     |            |             |\n",
    "   +-v+          +v-+          +v-+\n",
    "   |50|          |40|          |10|\n",
    "  +----+      +----+-----+     +--+\n",
    "  |    |      |    |     |\n",
    "  |    |      |    |     |\n",
    "+-v+  +v-+  +-v+  +v-+  +v-+\n",
    "|25|  |25|  |20|  |15|  |5 |\n",
    "+--+  +--+  +--+  +--+  +--+\n",
    "\n",
    "```\n",
    "\n",
    "Что позволяет разбиению на классы дать *содержательную* трактовку."
   ]
  },
  {
   "cell_type": "markdown",
   "metadata": {},
   "source": [
    "## Самоорганизующаяся карта Кохонена\n",
    "\n",
    "Определение из Википедии - [Самоорганизующаяся карта Кохонена](https://ru.wikipedia.org/wiki/%D0%A1%D0%B0%D0%BC%D0%BE%D0%BE%D1%80%D0%B3%D0%B0%D0%BD%D0%B8%D0%B7%D1%83%D1%8E%D1%89%D0%B0%D1%8F%D1%81%D1%8F_%D0%BA%D0%B0%D1%80%D1%82%D0%B0_%D0%9A%D0%BE%D1%85%D0%BE%D0%BD%D0%B5%D0%BD%D0%B0)\n",
    "\n",
    "Решает ту же задачу что и сама сеть, но главной особенностью являеться наглядное графическое представление полученной информации."
   ]
  },
  {
   "cell_type": "code",
   "execution_count": 38,
   "metadata": {},
   "outputs": [
    {
     "data": {
      "text/plain": [
       "<BarContainer object of 10 artists>"
      ]
     },
     "execution_count": 38,
     "metadata": {},
     "output_type": "execute_result"
    },
    {
     "data": {
      "image/png": "[encoded data removed]",
      "text/plain": [
       "<Figure size 432x288 with 1 Axes>"
      ]
     },
     "metadata": {
      "needs_background": "light"
     },
     "output_type": "display_data"
    }
   ],
   "source": [
    "# Для одномерных данных, имеем следующее представление:\n",
    "plt.bar(np.arange(10), np.random.randint(30, size=10))"
   ]
  },
  {
   "cell_type": "code",
   "execution_count": 52,
   "metadata": {},
   "outputs": [
    {
     "data": {
      "text/plain": [
       "<matplotlib.collections.PathCollection at 0x7f10c47216a0>"
      ]
     },
     "execution_count": 52,
     "metadata": {},
     "output_type": "execute_result"
    },
    {
     "data": {
      "image/png": "[encoded data removed]",
      "text/plain": [
       "<Figure size 432x288 with 1 Axes>"
      ]
     },
     "metadata": {
      "needs_background": "light"
     },
     "output_type": "display_data"
    }
   ],
   "source": [
    "# Для двухмерных данных:\n",
    "mtr = np.random.randint(30, size=(50, 2))\n",
    "plt.scatter(mtr[:,0], mtr[:,1])"
   ]
  },
  {
   "cell_type": "markdown",
   "metadata": {},
   "source": [
    "Уже начиная с 3 параметров, интуитивная визуализация представляет собой проблему\n",
    "\n",
    "Карта Кохонена решает задачу интуитивной визуализации этих данных"
   ]
  },
  {
   "cell_type": "code",
   "execution_count": 55,
   "metadata": {},
   "outputs": [],
   "source": [
    "raw_data = np.random.randint(0, 255, (3, 100))"
   ]
  },
  {
   "cell_type": "code",
   "execution_count": 56,
   "metadata": {},
   "outputs": [],
   "source": [
    "network_dimensions = np.array([5, 5])\n",
    "n_iterations = 10000\n",
    "init_learning_rate = 0.01\n",
    "\n",
    "normalise_data = True\n",
    "normalise_by_column = False"
   ]
  },
  {
   "cell_type": "code",
   "execution_count": 57,
   "metadata": {},
   "outputs": [],
   "source": [
    "m = raw_data.shape[0]\n",
    "n = raw_data.shape[1]\n",
    "\n",
    "# initial neighbourhood radius\n",
    "init_radius = max(network_dimensions[0], network_dimensions[1]) / 2\n",
    "# radius decay parameter\n",
    "time_constant = n_iterations / np.log(init_radius)\n",
    "\n",
    "data = raw_data\n",
    "if normalise_data:\n",
    "    if normalise_by_column:\n",
    "        col_maxes = raw_data.max(axis=0)\n",
    "        data = raw_data / col_maxes[np.newaxis, :]\n",
    "    else:\n",
    "        data = raw_data / data.max()"
   ]
  },
  {
   "cell_type": "code",
   "execution_count": 58,
   "metadata": {},
   "outputs": [],
   "source": [
    "net = np.random.random((network_dimensions[0], network_dimensions[1], m))"
   ]
  },
  {
   "cell_type": "code",
   "execution_count": 59,
   "metadata": {},
   "outputs": [],
   "source": [
    "def find_bmu(t, net, m):\n",
    "    \"\"\"\n",
    "        Find the best matching unit for a given vector, t\n",
    "        Returns: bmu and bmu_idx is the index of this vector in the SOM\n",
    "    \"\"\"\n",
    "    bmu_idx = np.array([0, 0])\n",
    "    min_dist = np.iinfo(np.int).max\n",
    "    \n",
    "    # calculate the distance between each neuron and the input\n",
    "    for x in range(net.shape[0]):\n",
    "        for y in range(net.shape[1]):\n",
    "            w = net[x, y, :].reshape(m, 1)\n",
    "            sq_dist = np.sum((w - t) ** 2)\n",
    "            sq_dist = np.sqrt(sq_dist)\n",
    "            if sq_dist < min_dist:\n",
    "                min_dist = sq_dist # dist\n",
    "                bmu_idx = np.array([x, y]) # id\n",
    "    \n",
    "    bmu = net[bmu_idx[0], bmu_idx[1], :].reshape(m, 1)\n",
    "    return (bmu, bmu_idx)"
   ]
  },
  {
   "cell_type": "code",
   "execution_count": 60,
   "metadata": {},
   "outputs": [],
   "source": [
    "def decay_radius(initial_radius, i, time_constant):\n",
    "    return initial_radius * np.exp(-i / time_constant)\n",
    "\n",
    "def decay_learning_rate(initial_learning_rate, i, n_iterations):\n",
    "    return initial_learning_rate * np.exp(-i / n_iterations)\n",
    "\n",
    "def calculate_influence(distance, radius):\n",
    "    return np.exp(-distance / (2* (radius**2)))"
   ]
  },
  {
   "cell_type": "code",
   "execution_count": 61,
   "metadata": {},
   "outputs": [],
   "source": [
    "for i in range(n_iterations):\n",
    "    # select a training example at random\n",
    "    t = data[:, np.random.randint(0, n)].reshape(np.array([m, 1]))\n",
    "    \n",
    "    # find its Best Matching Unit\n",
    "    bmu, bmu_idx = find_bmu(t, net, m)\n",
    "    \n",
    "    # decay the SOM parameters\n",
    "    r = decay_radius(init_radius, i, time_constant)\n",
    "    l = decay_learning_rate(init_learning_rate, i, n_iterations)\n",
    "    \n",
    "    # update weight vector to move closer to input\n",
    "    # and move its neighbours in 2-D vector space closer\n",
    "    \n",
    "    for x in range(net.shape[0]):\n",
    "        for y in range(net.shape[1]):\n",
    "            w = net[x, y, :].reshape(m, 1)\n",
    "            w_dist = np.sum((np.array([x, y]) - bmu_idx) ** 2)\n",
    "            w_dist = np.sqrt(w_dist)\n",
    "            \n",
    "            if w_dist <= r:\n",
    "                # calculate the degree of influence (based on the 2-D distance)\n",
    "                influence = calculate_influence(w_dist, r)\n",
    "                \n",
    "                # new w = old w + (learning rate * influence * delta)\n",
    "                # where delta = input vector (t) - old w\n",
    "                new_w = w + (l * influence * (t - w))\n",
    "                net[x, y, :] = new_w.reshape(1, 3)"
   ]
  },
  {
   "cell_type": "code",
   "execution_count": 62,
   "metadata": {},
   "outputs": [
    {
     "data": {
      "image/png": "[encoded data removed]",
      "text/plain": [
       "<Figure size 432x288 with 1 Axes>"
      ]
     },
     "metadata": {
      "needs_background": "light"
     },
     "output_type": "display_data"
    }
   ],
   "source": [
    "fig = plt.figure()\n",
    "\n",
    "ax = fig.add_subplot(111, aspect='equal')\n",
    "ax.set_xlim((0, net.shape[0]+1))\n",
    "ax.set_ylim((0, net.shape[1]+1))\n",
    "ax.set_title('Self-Organising Map after %d iterations' % n_iterations)\n",
    "\n",
    "# plot\n",
    "for x in range(1, net.shape[0] + 1):\n",
    "    for y in range(1, net.shape[1] + 1):\n",
    "        ax.add_patch(patches.Rectangle((x-0.5, y-0.5), 1, 1,\n",
    "                     facecolor=net[x-1,y-1,:],\n",
    "                     edgecolor='none'))\n",
    "plt.show()"
   ]
  },
  {
   "cell_type": "markdown",
   "metadata": {},
   "source": [
    "## Ссылки\n",
    "\n",
    "Reading material:\n",
    "\n",
    "[Applications of the growing self-organizing map, Th. Villmann, H.-U. Bauer, May 1998](https://en.wikipedia.org/wiki/Self-organizing_map)\n",
    "\n",
    "Application:\n",
    "\n",
    "http://blog.yhat.com/posts/self-organizing-maps-2.html  \n",
    "http://www.pitt.edu/~is2470pb/Spring05/FinalProjects/Group1a/tutorial/som.html  \n",
    "http://www.ai-junkie.com/ann/som/som1.html\n",
    "\n",
    "Implementations:\n",
    "\n",
    "Please find code here.\n",
    "https://github.com/abhinavralhan/kohonen-maps"
   ]
  },
  {
   "cell_type": "markdown",
   "metadata": {},
   "source": [
    "## Пример"
   ]
  },
  {
   "cell_type": "code",
   "execution_count": 64,
   "metadata": {},
   "outputs": [
    {
     "name": "stdout",
     "output_type": "stream",
     "text": [
      "Класс = 0\t[5.4, 4020, 2060, 57, 37]\n",
      "Класс = 0\t[8.9, 4810, 2223, 140, 40]\n",
      "Класс = 0\t[19.5, 5380, 2910, 285, 60]\n",
      "Класс = 1\t[25, 5890, 2880, 300, 40]\n",
      "Класс = 1\t[44.8, 6870, 3270, 700, 55]\n",
      "Класс = 1\t[56, 6316, 3705, 700, 44]\n",
      "Класс = 1\t[68, 7380, 3755, 700, 38]\n",
      "Класс = 0\t[13.8, 5200, 2470, 300, 60]\n",
      "Класс = 0\t[9.2, 4285, 2348, 140, 42]\n",
      "Класс = 1\t[30, 5920, 3000, 500, 54]\n",
      "Класс = 1\t[31.8, 6070, 3180, 500, 60]\n",
      "Класс = 1\t[47.5, 6675, 3320, 600, 34]\n",
      "Класс = 1\t[44.2, 6770, 3070, 520, 37]\n",
      "Класс = 1\t[46, 6770, 3070, 520, 37]\n",
      "Класс = 1\t[49, 6900, 3150, 520, 40]\n"
     ]
    }
   ],
   "source": [
    "import copy\n",
    "\n",
    "XA = [[5.4, 4020, 2060, 57, 37],\n",
    "     [8.9, 4810, 2223, 140, 40],\n",
    "     [19.5, 5380, 2910, 285, 60],\n",
    "     [25, 5890, 2880, 300, 40],\n",
    "     [44.8, 6870, 3270, 700, 55],\n",
    "     [56, 6316, 3705, 700, 44],\n",
    "     [68, 7380, 3755, 700, 38],\n",
    "     [13.8, 5200, 2470, 300, 60],\n",
    "     [9.2, 4285, 2348, 140, 42],\n",
    "     [30, 5920, 3000, 500, 54],\n",
    "     [31.8, 6070, 3180, 500, 60],\n",
    "     [47.5, 6675, 3320, 600, 34],\n",
    "     [44.2, 6770, 3070, 520, 37],\n",
    "     [46, 6770, 3070, 520, 37],\n",
    "     [49, 6900, 3150, 520, 40]]\n",
    "\n",
    "X = copy.deepcopy(XA)\n",
    "\n",
    "M = len(X)\n",
    "\n",
    "N = len(X[0])\n",
    "\n",
    "K = 2\n",
    "\n",
    "T = 10\n",
    "\n",
    "la = 0.3\n",
    "\n",
    "dla = 0.05\n",
    "\n",
    "Max = []\n",
    "Min = []\n",
    "\n",
    "def rho(x, y):\n",
    "    res = 0\n",
    "\n",
    "    for n in range(len(x)):\n",
    "        res += abs(x[n] - y[n])\n",
    "\n",
    "    return res\n",
    "\n",
    "def Near(x, W):\n",
    "    res = 0\n",
    "\n",
    "    min = rho(x, W[0])\n",
    "\n",
    "    for k in range(len(W)):\n",
    "        if rho(x, W[k]) < min:\n",
    "            min = rho(x, W[k])\n",
    "            res = k\n",
    "\n",
    "    return res\n",
    "\n",
    "for n in range(N):\n",
    "    Max.append(X[0][n])\n",
    "    Min.append(X[0][n])\n",
    "\n",
    "    for m in range(M):\n",
    "        if X[m][n] > Max[n]:\n",
    "            Max[n] = X[m][n]\n",
    "        if X[m][n] < Min[n]:\n",
    "            Min[n] = X[m][n]\n",
    "\n",
    "\n",
    "An = []\n",
    "Bn = []\n",
    "\n",
    "for n in range(N):\n",
    "    an = 1 / (Max[n] - Min[n])\n",
    "    bn = -Min[n] / (Max[n] - Min[n])\n",
    "    An.append(an)\n",
    "    Bn.append(bn)\n",
    "\n",
    "    for m in range(M):\n",
    "        X[m][n] = an * X[m][n] + bn\n",
    "\n",
    "W = []\n",
    "for k in range(K):\n",
    "    w = []\n",
    "    for n in range(N):\n",
    "        w.append(np.random.uniform(0.1, 0.3))\n",
    "    W.append(w)\n",
    "\n",
    "while la > 0:\n",
    "    for t in range(T):\n",
    "        for m in range(M):\n",
    "            k = Near(X[m], W)\n",
    "            for n in range(N):\n",
    "                W[k][n] += la * (X[m][n] - W[k][n])\n",
    "\n",
    "    la -= dla\n",
    "\n",
    "for m in range(M):\n",
    "    k = Near(X[m], W)\n",
    "\n",
    "    print(\"Класс = {0}\\t{1}\".format(k, XA[m]))"
   ]
  },
  {
   "cell_type": "code",
   "execution_count": null,
   "metadata": {},
   "outputs": [],
   "source": []
  }
 ],
 "metadata": {
  "kernelspec": {
   "display_name": "Python 3",
   "language": "python",
   "name": "python3"
  },
  "language_info": {
   "codemirror_mode": {
    "name": "ipython",
    "version": 3
   },
   "file_extension": ".py",
   "mimetype": "text/x-python",
   "name": "python",
   "nbconvert_exporter": "python",
   "pygments_lexer": "ipython3",
   "version": "3.8.2"
  }
 },
 "nbformat": 4,
 "nbformat_minor": 1
}
