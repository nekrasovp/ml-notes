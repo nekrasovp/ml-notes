{
 "cells": [
  {
   "cell_type": "code",
   "execution_count": 1,
   "metadata": {},
   "outputs": [],
   "source": [
    "import numpy as np\n",
    "import matplotlib.pyplot as plt"
   ]
  },
  {
   "cell_type": "markdown",
   "metadata": {},
   "source": [
    "# Notes on \n",
    "[Р.В. Шамин. Лекция 3. Генетические алгоритмы в задачах экономики и менеджмента](http://www.mathnet.ru/php/seminars.phtml?option_lang=rus&presentid=19513)"
   ]
  },
  {
   "cell_type": "markdown",
   "metadata": {},
   "source": [
    "- [X] Формальное определение генетического алгоритма\n",
    "- [X] Схема алгоритма\n",
    "- [X] Прикладные задачи  \n",
    "    - [X] Модификация и переложение алгоритма для решение прикладных задач менеджмента\n",
    "- [X] Пример"
   ]
  },
  {
   "cell_type": "markdown",
   "metadata": {},
   "source": [
    "## Формальное определение генетического алгоритма"
   ]
  },
  {
   "cell_type": "markdown",
   "metadata": {},
   "source": [
    "#### Оптимизационная задача в общем смысле\n",
    "\n",
    "Пусть $U$ - множество возможных рещений, $|U| > 1$, \n",
    "$U$ не пусто и  содержит более одного элемента.\n",
    "\n",
    "Задана действитейльная функция $f:\\mapsto\\mathbb{R}$\n",
    "\n",
    "Смысл задачи в нахождении максимума функции.\n",
    "\n",
    "#### Формальное определение генетического алгоритма\n",
    "\n",
    "$f(x) \\to max, x\\in U$\n",
    "\n",
    "$X = (X_1, X_2, ...,X_N), X_i\\in \\mathbb{R}, X_i\\in U_i\\subset \\mathbb{R}$\n",
    "\n",
    "$X$ - ген, $X_i$ - хромосома\n",
    "\n",
    "$Fit(x)$ - Фитнес функция. $Fit(x)\\to max$\n",
    "\n",
    "Наша цель найти ген оптимизирующий заданную фитнес функцию."
   ]
  },
  {
   "cell_type": "markdown",
   "metadata": {},
   "source": [
    "1. Порождение нового гена\n",
    "2. Скрещивание $(X,Y)\\mapsto Z$  \n",
    "    $Z=(Z_1,Z_2, ...,Z_N)$  \n",
    "    $Z_i \\in \\{X_i,Y_i\\}$\n",
    "3. Мутация $X\\to \\overline{X}, \\overline{X} - близка X$"
   ]
  },
  {
   "cell_type": "markdown",
   "metadata": {},
   "source": [
    "## Схема алгоритма"
   ]
  },
  {
   "cell_type": "markdown",
   "metadata": {},
   "source": [
    "1. Создаем пул генов $(X^1,X^2, ...,X^M)$\n",
    "2. Сортируем пул по значению фитнес функции $Fit_i=Fit(X^i)$   \n",
    "    $Fit_1\\geqslant Fit_2\\geqslant ...\\geqslant Fit_M$\n",
    "3. Пусть $k\\in (0,M)$, количество особей(генов) на обновление. Например 20%.  \n",
    "    $X^i:=$ Создаем новый ген $i=M-k+1,M-k+2, ...,M$\n",
    "4. Скрещивание генов из пула  \n",
    "    - $X^1$ сохраняем(в таком случае получаем монотонный алгоритм, в некоторых случаях есть смысл менять и \"царя горы\"\n",
    "    - $X^i:=$ Скрещиваем $X^m$ и $X^k$, выбирая $m,k$ с вероятностями пропорциональными их нормализованной фитнес функции\n",
    "    - Переходим в 2. пока не получим удовлетворяющее нас условие"
   ]
  },
  {
   "cell_type": "markdown",
   "metadata": {},
   "source": [
    "## Прикладные задачи "
   ]
  },
  {
   "cell_type": "markdown",
   "metadata": {},
   "source": [
    "$F(x) \\to max, x\\in U$\n",
    "\n",
    "* Оптимизационные задачи, связанные со структурой экономического объекта\n",
    "* Оптимизация планирования(формального, неформального)\n",
    "* Позволяют за несколько итераций понять сильные и слыбые стороны плана\n",
    "* Решение кадровых вопросов\n",
    "    - Алгоритм привязываеться к реальным показателям сотрудников/потенциальных членов команды\n",
    "    - Позволяет решить задачу оптимизации сотрудников внутри команды за минимальное количество итераций\n",
    "    - В качестве фитнес функции может выступать результат \"деловой игры\" или \"бизнес-показатели\" команды"
   ]
  },
  {
   "cell_type": "markdown",
   "metadata": {},
   "source": [
    "## Пример"
   ]
  },
  {
   "cell_type": "code",
   "execution_count": 10,
   "metadata": {},
   "outputs": [],
   "source": [
    "class GeneticSolver:\n",
    "    def __init__(self, func, steps=100, genes=10, cut_genes=2, chrom=5):\n",
    "        '''\n",
    "        :param func: Optimizing function\n",
    "        :param steps: Number of iterations\n",
    "        :param genes: number of gene\n",
    "        :param cut_genes: number of gene to replace\n",
    "        :param chrom: number of chromosomes\n",
    "        '''\n",
    "        self.f = func\n",
    "        self.steps = steps\n",
    "        self.genes = genes\n",
    "        self.cut_genes = cut_genes\n",
    "        self.chrom = chrom\n",
    "        self.X = []\n",
    "        self.init_genes()\n",
    "        self.solve()\n",
    "\n",
    "    def fit(self, gene):\n",
    "        return 1.0 / (1 + self.f(gene))\n",
    "\n",
    "    def sort(self):\n",
    "        res = self.X\n",
    "        for m in range(self.genes - 1):\n",
    "            for i in range(self.genes - m - 1):\n",
    "                if self.fit(res[i]) < self.fit(res[i + 1]):\n",
    "                    c = res[i]\n",
    "                    res[i] = res[i + 1]\n",
    "                    res[i + 1] = c\n",
    "        self.X = res\n",
    "\n",
    "    def cross(self, gene_a, gene_b):\n",
    "        res = []\n",
    "        p = self.fit(gene_a) / (self.fit(gene_a) + self.fit(gene_b))\n",
    "        for n in range(self.chrom):\n",
    "            if np.random.uniform(0, 1) < p:\n",
    "                res.append(gene_a[n])\n",
    "            else:\n",
    "                res.append(gene_b[n])\n",
    "        return res\n",
    "\n",
    "    def generate_gene(self):\n",
    "        return [np.random.uniform(-1, 1) for _ in range(self.chrom)]\n",
    "\n",
    "    def init_genes(self):\n",
    "        [self.X.append(self.generate_gene()) for _ in range(self.genes)]\n",
    "\n",
    "    def solve(self):\n",
    "        for l in range(self.steps):\n",
    "            self.sort()\n",
    "            for m in range(1, self.genes - self.cut_genes):\n",
    "                self.X[m] = self.cross(self.X[m],\n",
    "                                       self.X[np.random.randint(0, self.genes)])\n",
    "            for m in range(self.genes - self.cut_genes, self.genes):\n",
    "                self.X[m] = self.generate_gene()\n"
   ]
  },
  {
   "cell_type": "code",
   "execution_count": 12,
   "metadata": {},
   "outputs": [],
   "source": [
    "def f(x):\n",
    "    res = 0\n",
    "    for xn in x:\n",
    "        res += xn * xn * (1 + np.abs(np.sin(100 * xn)))\n",
    "    return res\n",
    "\n",
    "G = GeneticSolver(f)"
   ]
  },
  {
   "cell_type": "code",
   "execution_count": 13,
   "metadata": {},
   "outputs": [
    {
     "data": {
      "text/plain": [
       "[0.006580087379671973,\n",
       " 0.029151313750332974,\n",
       " -0.0006567536970703003,\n",
       " -0.103576665357213,\n",
       " 0.0630326291707568]"
      ]
     },
     "execution_count": 13,
     "metadata": {},
     "output_type": "execute_result"
    }
   ],
   "source": [
    "G.X[0]"
   ]
  },
  {
   "cell_type": "code",
   "execution_count": 5,
   "metadata": {},
   "outputs": [
    {
     "data": {
      "text/plain": [
       "0.046773614361303596"
      ]
     },
     "execution_count": 5,
     "metadata": {},
     "output_type": "execute_result"
    }
   ],
   "source": [
    "f(G.X[0])"
   ]
  }
 ],
 "metadata": {
  "kernelspec": {
   "display_name": "Python 3",
   "language": "python",
   "name": "python3"
  },
  "language_info": {
   "codemirror_mode": {
    "name": "ipython",
    "version": 3
   },
   "file_extension": ".py",
   "mimetype": "text/x-python",
   "name": "python",
   "nbconvert_exporter": "python",
   "pygments_lexer": "ipython3",
   "version": "3.8.2"
  }
 },
 "nbformat": 4,
 "nbformat_minor": 1
}
