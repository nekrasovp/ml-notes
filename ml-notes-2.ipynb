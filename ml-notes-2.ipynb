{
 "cells": [
  {
   "cell_type": "code",
   "execution_count": 265,
   "metadata": {},
   "outputs": [],
   "source": [
    "import numpy as np\n",
    "import matplotlib.pyplot as plt"
   ]
  },
  {
   "cell_type": "markdown",
   "metadata": {},
   "source": [
    "# Notes on\n",
    "[Р.В. Шамин. Лекция 2. Оптимизационные задачи математической экономики и эволюционные методы](http://www.mathnet.ru/php/seminars.phtml?presentid=19427)"
   ]
  },
  {
   "cell_type": "markdown",
   "metadata": {},
   "source": [
    "- [x] Сформулируем обшую оптимизационную задачу\n",
    "- [x] Экономический смысл и примеры \n",
    "- [x] Принципиальные инструменты для решения поставленных задач"
   ]
  },
  {
   "cell_type": "markdown",
   "metadata": {},
   "source": [
    "## Сформулируем обшую оптимизационную задачу\n",
    "\n",
    "Пусть $U$ - множество возможных рещений, $|U| > 1$, \n",
    "$U$ не пусто и  содержит более одного элемента.\n",
    "\n",
    "Задана действитейльная функция $F:\\mapsto\\ mathbb{R}$\n",
    "\n",
    "Смысл задачи в нахождении **максимума**(минимума) функции.\n",
    "\n",
    "Для формулировки задачи, мы сделаем предположение что $\\inf_{u\\in U}F(u)>-\\infty$\n",
    "\n",
    "* $\\max_{u\\in U} F(u) = I^*$ \n",
    "* Найти $u^*\\in U$, такой что $F(u^*) = \\max_{u\\in U} F(u)$\n",
    "\n",
    "В случае поиска $\\sup_{u\\in U}$ \n",
    "\n",
    "* $\\sup_{u\\in U} F(u) = I^*$\n",
    "* Найти максимизирующую последовательность $\\{u_K\\}\\in U$, таукю что $\\lim_{K \\to \\infty}F(u_K)=\\sup_{u\\in U} F(u) = I^*$"
   ]
  },
  {
   "cell_type": "markdown",
   "metadata": {},
   "source": [
    "## Экономический смысл и примеры \n",
    "\n",
    "Пусть ${\\color{red}U\\in \\mathbb{R}^2}$, тогда существует ${\\color{blue}F(x_1, x_2)=c_1x_1+c_2x_2}$\n",
    "\n",
    "<img src=\"https://grasswiki.osgeo.org/w/images/archive/20080810135248%21Concave_hull.jpg\" width=\"40%\" align='left'>"
   ]
  },
  {
   "cell_type": "markdown",
   "metadata": {},
   "source": [
    "\"Путь\" частиц в локальные оптимумы имеет экономическуий смысл, как последовательность принимаемых решений и определение точек контроля проекта. Наивная оценка путей иногда имеет смысл, позволяя определить \"не очень хорошие\" оптимумы. \n",
    "\n",
    "По мимо всего прочего в реальных задачах модель из статической становиться динамической по времени, и изучение \"путей\" обретает решающий смысл."
   ]
  },
  {
   "cell_type": "markdown",
   "metadata": {},
   "source": [
    "## Принципиальные инструменты для решения поставленных задач\n",
    "\n",
    "- [x] Метод имитации отжига\n",
    "- [x] Метод роения частиц\n",
    "- [x] Метод градиентного спуска(основной проблемой являеться угасание в локальных отмимумах)"
   ]
  },
  {
   "cell_type": "markdown",
   "metadata": {},
   "source": [
    "### Метод имитации отжига"
   ]
  },
  {
   "cell_type": "markdown",
   "metadata": {},
   "source": [
    "1. $T_0>0, K=0$\n",
    "2. $u_0\\in U$ - выбираем произвольно\n",
    "3. $\\overline{u}=G(u)$, $\\overline{u}$ близкое к $u_K$(предполагаеться что $U$ метрическое пространство)\n",
    "4. Если $F(\\overline{u})>F(u_K)$, то $u_{K+1}=\\overline{u}$, $K = K + 1$, переход в 3.\n",
    "5. $\\Delta = F(\\overline{u}) - F(u_K) < 0 $\n",
    "6. $\\xi \\sim  \\mathbb{R}(0, 1)$, Если $\\xi < \\exp(\\frac{\\Delta}{T_K})$, то $u_{K+1}=\\overline{u}$, $T_{K+1}=\\alpha T_K$, переход в 3.\n",
    "7. Иначе $u_{K+1}=u_K$, $K = K + 1$, $T_{K+1}=\\alpha T_K$, переход в 3.\n"
   ]
  },
  {
   "cell_type": "code",
   "execution_count": 266,
   "metadata": {},
   "outputs": [],
   "source": [
    "# Simulated Annealing\n",
    "\n",
    "class Anealing():\n",
    "    def __init__(self, func, alpha = 0.95, t = 100, s = 10):\n",
    "        self.F = func\n",
    "        self.alpha = alpha\n",
    "        self.T = t\n",
    "        self.s = s\n",
    "        self.x = []\n",
    "        self.Fx = []\n",
    "        self.temp = []\n",
    "\n",
    "    def run(self):\n",
    "        for i in range(100):\n",
    "            if (i%10 == 0): print('Шаг: ' + str(i) + ' Температура: ' + str(self.T))\n",
    "            s_ = self.s + np.random.uniform(-5, 5)\n",
    "            d = self.F(s_) - self.F(self.s)\n",
    "            if d < 0:\n",
    "                self.s = s_\n",
    "            else:\n",
    "                if (np.random.uniform(0, 1) < np.exp(d / self.T)):\n",
    "                    self.T *= self.alpha\n",
    "                    self.s = s_\n",
    "            self.x.append(self.s)\n",
    "            self.Fx.append(self.F(self.s))\n",
    "            self.temp.append(self.T)\n",
    "        print('Best solution: ' + str(self.x[-1]))\n",
    "        print('Best objective: ' + str(self.F(self.x[-1])))\n",
    "        \n",
    "    def draw_plot(self):\n",
    "        fig = plt.figure()\n",
    "        ax1 = fig.add_subplot(311)\n",
    "        ax1.plot(self.temp, 'r.-')\n",
    "        ax1.legend(['T'])\n",
    "        ax2 = fig.add_subplot(312)\n",
    "        ax2.plot(self.x,'b.-')\n",
    "        ax2.legend(['x'])\n",
    "        ax3 = fig.add_subplot(313)\n",
    "        ax3.plot(self.Fx,'g.-')\n",
    "        ax3.legend(['F(x)'])\n",
    "        plt.tight_layout()\n",
    "        plt.show()"
   ]
  },
  {
   "cell_type": "code",
   "execution_count": 267,
   "metadata": {},
   "outputs": [
    {
     "name": "stdout",
     "output_type": "stream",
     "text": [
      "Шаг: 0 Температура: 100\n",
      "Шаг: 10 Температура: 69.83372960937498\n",
      "Шаг: 20 Температура: 54.03600876626366\n",
      "Шаг: 30 Температура: 44.012666865176534\n",
      "Шаг: 40 Температура: 34.05616262881148\n",
      "Шаг: 50 Температура: 29.198902433877237\n",
      "Шаг: 60 Температура: 21.463876394293724\n",
      "Шаг: 70 Температура: 15.777921478822675\n",
      "Шаг: 80 Температура: 12.208654873684791\n",
      "Шаг: 90 Температура: 8.525759033430816\n",
      "Best solution: 42.36459528114398\n",
      "Best objective: 100.25580952323395\n"
     ]
    }
   ],
   "source": [
    "def f(x): return x * (2 + np.abs(np.sin(8.0 * x)))\n",
    "A = Anealing(f)\n",
    "A.run()"
   ]
  },
  {
   "cell_type": "code",
   "execution_count": 268,
   "metadata": {},
   "outputs": [
    {
     "data": {
      "image/png": "[encoded data removed]",
      "text/plain": [
       "<Figure size 432x288 with 3 Axes>"
      ]
     },
     "metadata": {
      "needs_background": "light"
     },
     "output_type": "display_data"
    }
   ],
   "source": [
    "A.draw_plot()"
   ]
  },
  {
   "cell_type": "markdown",
   "metadata": {},
   "source": [
    "### Метод роения частиц"
   ]
  },
  {
   "cell_type": "markdown",
   "metadata": {},
   "source": [
    "1. $U\\in \\mathbb{N}^n$ предположим что решения лежат в области целых чисел\n",
    "2. Создаем популяцию $u^1, u^2,... u^M$ со случайными координатами, такими что $u^m\\in U$\n",
    "3. Для каждого m = 1 ... M\n",
    "    - Выбрать случайным образом $k\\in \\{1, 2,... n\\}$\n",
    "    - Выбираем случайным образом $\\Delta \\in \\{-1,1\\}$\n",
    "    - $\\overline{u}^m_k = {u}^m_k + \\Delta$\n",
    "    - Если $\\overline{u}^m_k \\in U$ и $F(\\overline{u}^m) > F(u^m)$, то $u^m=\\overline{u}^m$\n"
   ]
  },
  {
   "cell_type": "code",
   "execution_count": 269,
   "metadata": {},
   "outputs": [],
   "source": [
    "# Particle swarm optimization\n",
    "\n",
    "class Swarm:\n",
    "    def __init__(self, func, alpha=0.95, beta=0.2, gamma=0.2):\n",
    "        self.F = func\n",
    "        self.N = 2\n",
    "        self.M = 100\n",
    "        self.L = 100\n",
    "        self.alpha = alpha\n",
    "        self.beta = beta\n",
    "        self.gamma = gamma\n",
    "        self.X = []\n",
    "        self.V = []\n",
    "        self.Xmin = []\n",
    "        self.XMinAll = np.zeros(self.N)\n",
    "\n",
    "    def calc_min_all(self, xmin):\n",
    "        res = xmin[0]\n",
    "        for x in xmin:\n",
    "            if self.F(x) < self.F(res):\n",
    "                res = x\n",
    "        return res\n",
    "\n",
    "    def run(self):\n",
    "        for m in range(self.M):\n",
    "            x = np.zeros(self.N)\n",
    "            x[0] = np.random.uniform(-100, 100)\n",
    "            x[1] = np.random.uniform(-100, 100)\n",
    "\n",
    "            self.X.append(x)\n",
    "            self.Xmin.append(x)\n",
    "\n",
    "            v = np.zeros(self.N)\n",
    "            v[0] = np.random.uniform(-10, 10)\n",
    "            v[1] = np.random.uniform(-10, 10)\n",
    "\n",
    "            self.V.append(v)\n",
    "\n",
    "        self.XMinAll = self.calc_min_all(self.Xmin)\n",
    "\n",
    "        for l in range(self.L):\n",
    "            for m in range(self.M):\n",
    "                self.V[m] = self.alpha * self.V[m] + \\\n",
    "                            self.beta * np.random.uniform() * (self.Xmin[m] - self.X[m]) + \\\n",
    "                            self.gamma * np.random.uniform() * (self.XMinAll - self.X[m])\n",
    "\n",
    "                self.X[m] = self.X[m] + self.V[m]\n",
    "\n",
    "                if F(self.X[m]) < F(self.Xmin[m]):\n",
    "                    self.Xmin[m] = self.X[m]\n",
    "\n",
    "            self.XMinAll = self.calc_min_all(self.Xmin)\n",
    "            if l % 10 == 0: print(f\"{self.XMinAll} Значение = {F(self.XMinAll)}\")"
   ]
  },
  {
   "cell_type": "code",
   "execution_count": 270,
   "metadata": {},
   "outputs": [
    {
     "name": "stdout",
     "output_type": "stream",
     "text": [
      "[ 7.25603993 55.11192344] Значение = 645.1879054747429\n",
      "[ 8.77539684 77.3383107 ] Значение = 71.39443476377095\n",
      "[-7.08182025 49.91093532] Значение = 71.13562106003306\n",
      "[-5.13766014 26.53236428] Значение = 39.54263996318209\n",
      "[-5.13766014 26.53236428] Значение = 39.54263996318209\n",
      "[0.46647398 0.43581277] Значение = 5.046419908779538\n",
      "[0.44144403 0.14970093] Значение = 0.5160348488408157\n",
      "[1.19924113 1.45183462] Значение = 0.058343854875226975\n",
      "[1.19924113 1.45183462] Значение = 0.058343854875226975\n",
      "[1.11648479 1.23850927] Значение = 0.02001521746785502\n"
     ]
    }
   ],
   "source": [
    "def F(x): return (1 - x[0]) * (1 - x[0]) + 100 * (x[1] - x[0] * x[0]) * (x[1] - x[0] * x[0])\n",
    "S = Swarm(F)\n",
    "S.run()"
   ]
  },
  {
   "cell_type": "markdown",
   "metadata": {},
   "source": [
    "### Метод градиентного спуска"
   ]
  },
  {
   "cell_type": "code",
   "execution_count": 271,
   "metadata": {},
   "outputs": [
    {
     "name": "stdout",
     "output_type": "stream",
     "text": [
      "Шаг 0 | Значение : 442.641611137812\n",
      "Шаг 1000 | Значение : 91.19696731070769\n",
      "Шаг 2000 | Значение : 71.76828467698726\n",
      "Шаг 3000 | Значение : 56.693504098738366\n",
      "Шаг 4000 | Значение : 44.996930853574725\n",
      "Шаг 5000 | Значение : 35.92152010584691\n",
      "Шаг 6000 | Значение : 28.879878206666746\n",
      "Шаг 7000 | Значение : 23.416244436845183\n",
      "Шаг 8000 | Значение : 19.176992512629546\n",
      "Шаг 9000 | Значение : 15.887742604220618\n",
      "Шаг 10000 | Значение : 13.335602473513688\n",
      "Шаг 11000 | Значение : 11.355388312797624\n",
      "Шаг 12000 | Значение : 9.818933446891005\n",
      "Шаг 13000 | Значение : 8.626792918962128\n",
      "Шаг 14000 | Значение : 7.70180705060607\n",
      "Шаг 15000 | Значение : 6.984107386335065\n",
      "Шаг 16000 | Значение : 6.427241789015077\n",
      "Шаг 17000 | Значение : 5.995167888306871\n",
      "Шаг 18000 | Значение : 5.659920287141153\n",
      "Шаг 19000 | Значение : 5.399800539331491\n",
      "Шаг 20000 | Значение : 5.197972747080908\n",
      "Шаг 21000 | Значение : 5.041373880336891\n",
      "Шаг 22000 | Значение : 4.919868289892408\n",
      "Шаг 23000 | Значение : 4.825591691241215\n",
      "Шаг 24000 | Значение : 4.75244215943178\n",
      "Шаг 25000 | Значение : 4.695685190252867\n",
      "Шаг 26000 | Значение : 4.651647265871256\n",
      "Шаг 27000 | Значение : 4.617478091373432\n",
      "Шаг 28000 | Значение : 4.590966113294146\n",
      "Шаг 29000 | Значение : 4.570395379818536\n",
      "Шаг 30000 | Значение : 4.554434478128769\n",
      "Шаг 31000 | Значение : 4.542050360515628\n",
      "Шаг 32000 | Значение : 4.532441481766987\n",
      "Шаг 33000 | Значение : 4.524985920241301\n",
      "Шаг 34000 | Значение : 4.519201124833072\n",
      "Шаг 35000 | Значение : 4.514712682507205\n",
      "Шаг 36000 | Значение : 4.511230084923204\n",
      "Шаг 37000 | Значение : 4.508527925676951\n",
      "Шаг 38000 | Значение : 4.506431311177008\n",
      "Шаг 39000 | Значение : 4.504804540894134\n",
      "Шаг 40000 | Значение : 4.503542324328665\n",
      "Шаг 41000 | Значение : 4.502562966225732\n",
      "Шаг 42000 | Значение : 4.501803078960722\n",
      "Шаг 43000 | Значение : 4.5012134798612795\n",
      "Шаг 44000 | Значение : 4.500756007925545\n",
      "Шаг 45000 | Значение : 4.500401053903087\n",
      "Шаг 46000 | Значение : 4.500125643876334\n",
      "Шаг 47000 | Значение : 4.4999119523049265\n",
      "Шаг 48000 | Значение : 4.499746148291803\n",
      "Шаг 49000 | Значение : 4.499617500397141\n",
      "Шаг 50000 | Значение : 4.499517682060491\n",
      "Шаг 51000 | Значение : 4.499440232675421\n",
      "Шаг 52000 | Значение : 4.49938013943555\n",
      "Шаг 53000 | Значение : 4.499333512887454\n",
      "Шаг 54000 | Значение : 4.499297335191056\n",
      "Шаг 55000 | Значение : 4.499269264794045\n",
      "Шаг 56000 | Значение : 4.4992474848780475\n",
      "Шаг 57000 | Значение : 4.499230585767545\n",
      "Шаг 58000 | Значение : 4.4992174736905435\n",
      "Шаг 59000 | Значение : 4.499207299985643\n",
      "Шаг 60000 | Значение : 4.499199406173597\n",
      "Шаг 61000 | Значение : 4.4991932813381235\n",
      "Шаг 62000 | Значение : 4.499188529057563\n",
      "Шаг 63000 | Значение : 4.499184841747\n",
      "Шаг 64000 | Значение : 4.499181980750258\n",
      "Шаг 65000 | Значение : 4.499179760893214\n",
      "Шаг 66000 | Значение : 4.499178038498621\n",
      "Шаг 67000 | Значение : 4.499176702086827\n",
      "Шаг 68000 | Значение : 4.4991756651604\n",
      "Шаг 69000 | Значение : 4.499174860605675\n",
      "Шаг 70000 | Значение : 4.499174236348942\n",
      "Шаг 71000 | Значение : 4.499173751986032\n",
      "Шаг 72000 | Значение : 4.499173376167212\n",
      "Шаг 73000 | Значение : 4.499173084568119\n",
      "Шаг 74000 | Значение : 4.499172858315394\n",
      "Шаг 75000 | Значение : 4.499172682765144\n",
      "Шаг 76000 | Значение : 4.499172546555104\n",
      "Шаг 77000 | Значение : 4.499172440869279\n",
      "Шаг 78000 | Значение : 4.499172358867287\n",
      "Шаг 79000 | Значение : 4.499172295241666\n",
      "Шаг 80000 | Значение : 4.499172245874331\n",
      "Шаг 81000 | Значение : 4.499172207570044\n",
      "Шаг 82000 | Значение : 4.4991721778496245\n",
      "Шаг 83000 | Значение : 4.499172154789449\n",
      "Шаг 84000 | Значение : 4.499172136896979\n",
      "Шаг 85000 | Значение : 4.499172123014151\n",
      "Шаг 86000 | Значение : 4.4991721122424195\n",
      "Шаг 87000 | Значение : 4.499172103884596\n",
      "Шаг 88000 | Значение : 4.499172097399731\n",
      "Шаг 89000 | Значение : 4.499172092368104\n",
      "Шаг 90000 | Значение : 4.499172088464049\n",
      "Шаг 91000 | Значение : 4.499172085434875\n",
      "Шаг 92000 | Значение : 4.499172083084527\n",
      "Шаг 93000 | Значение : 4.49917208126089\n",
      "Шаг 94000 | Значение : 4.499172079845923\n",
      "Шаг 95000 | Значение : 4.499172078748043\n",
      "Шаг 96000 | Значение : 4.499172077896198\n",
      "Шаг 97000 | Значение : 4.499172077235247\n",
      "Шаг 98000 | Значение : 4.499172076722413\n",
      "Шаг 99000 | Значение : 4.499172076324501\n",
      "[30.6819926   0.99838498]\n"
     ]
    }
   ],
   "source": [
    "# m denotes the number of examples here, not the number of features\n",
    "def gradientDescent(x, y, theta, alpha, m, numIterations):\n",
    "    xTrans = x.transpose()\n",
    "    for i in range(0, numIterations):\n",
    "        hypothesis = np.dot(x, theta)\n",
    "        loss = hypothesis - y\n",
    "        # avg cost per example (the 2 in 2*m doesn't really matter here.\n",
    "        # But to be consistent with the gradient, I include it)\n",
    "        cost = np.sum(loss ** 2) / (2 * m)\n",
    "        if i%1000==0: print(f\"Шаг {i} | Значение : {cost}\")\n",
    "        # avg gradient per example\n",
    "        gradient = np.dot(xTrans, loss) / m\n",
    "        # update\n",
    "        theta = theta - alpha * gradient\n",
    "    return theta\n",
    "\n",
    "\n",
    "def genData(numPoints, bias, variance):\n",
    "    x = np.zeros(shape=(numPoints, 2))\n",
    "    y = np.zeros(shape=numPoints)\n",
    "    # basically a straight line\n",
    "    for i in range(0, numPoints):\n",
    "        # bias feature\n",
    "        x[i][0] = 1\n",
    "        x[i][1] = i\n",
    "        # our target variable\n",
    "        y[i] = (i + bias) + random.uniform(0, 1) * variance\n",
    "    return x, y\n",
    "\n",
    "# gen 100 points with a bias of 25 and 10 variance as a bit of noise\n",
    "x, y = genData(100, 25, 10)\n",
    "m, n = np.shape(x)\n",
    "numIterations= 100000\n",
    "alpha = 0.0005\n",
    "theta = np.ones(n)\n",
    "theta = gradientDescent(x, y, theta, alpha, m, numIterations)\n",
    "print(theta)"
   ]
  },
  {
   "cell_type": "code",
   "execution_count": null,
   "metadata": {},
   "outputs": [],
   "source": []
  }
 ],
 "metadata": {
  "kernelspec": {
   "display_name": "Python 3",
   "language": "python",
   "name": "python3"
  },
  "language_info": {
   "codemirror_mode": {
    "name": "ipython",
    "version": 3
   },
   "file_extension": ".py",
   "mimetype": "text/x-python",
   "name": "python",
   "nbconvert_exporter": "python",
   "pygments_lexer": "ipython3",
   "version": "3.8.2"
  }
 },
 "nbformat": 4,
 "nbformat_minor": 1
}